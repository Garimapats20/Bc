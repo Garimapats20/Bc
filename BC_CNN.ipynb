{
  "nbformat": 4,
  "nbformat_minor": 0,
  "metadata": {
    "colab": {
      "name": "Untitled55.ipynb",
      "provenance": []
    },
    "kernelspec": {
      "name": "python3",
      "display_name": "Python 3"
    },
    "language_info": {
      "name": "python"
    }
  },
  "cells": [
    {
      "cell_type": "code",
      "metadata": {
        "colab": {
          "base_uri": "https://localhost:8080/"
        },
        "id": "vx3aFU9Osgr2",
        "outputId": "cc02b915-dec2-4178-87d1-ee6473e30d73"
      },
      "source": [
        "!pip install tensorflow-gpu==2.3.0-rc0"
      ],
      "execution_count": 1,
      "outputs": [
        {
          "output_type": "stream",
          "text": [
            "Requirement already satisfied: tensorflow-gpu==2.3.0-rc0 in /usr/local/lib/python3.7/dist-packages (2.3.0rc0)\n",
            "Requirement already satisfied: keras-preprocessing<1.2,>=1.1.1 in /usr/local/lib/python3.7/dist-packages (from tensorflow-gpu==2.3.0-rc0) (1.1.2)\n",
            "Requirement already satisfied: astunparse==1.6.3 in /usr/local/lib/python3.7/dist-packages (from tensorflow-gpu==2.3.0-rc0) (1.6.3)\n",
            "Requirement already satisfied: opt-einsum>=2.3.2 in /usr/local/lib/python3.7/dist-packages (from tensorflow-gpu==2.3.0-rc0) (3.3.0)\n",
            "Requirement already satisfied: tf-estimator-nightly<2.3.0.dev2020062302,>=2.3.0.dev2020062301 in /usr/local/lib/python3.7/dist-packages (from tensorflow-gpu==2.3.0-rc0) (2.3.0.dev2020062301)\n",
            "Requirement already satisfied: wrapt>=1.11.1 in /usr/local/lib/python3.7/dist-packages (from tensorflow-gpu==2.3.0-rc0) (1.12.1)\n",
            "Requirement already satisfied: six>=1.12.0 in /usr/local/lib/python3.7/dist-packages (from tensorflow-gpu==2.3.0-rc0) (1.15.0)\n",
            "Requirement already satisfied: absl-py>=0.7.0 in /usr/local/lib/python3.7/dist-packages (from tensorflow-gpu==2.3.0-rc0) (0.12.0)\n",
            "Requirement already satisfied: wheel>=0.26 in /usr/local/lib/python3.7/dist-packages (from tensorflow-gpu==2.3.0-rc0) (0.36.2)\n",
            "Requirement already satisfied: h5py<2.11.0,>=2.10.0 in /usr/local/lib/python3.7/dist-packages (from tensorflow-gpu==2.3.0-rc0) (2.10.0)\n",
            "Requirement already satisfied: google-pasta>=0.1.8 in /usr/local/lib/python3.7/dist-packages (from tensorflow-gpu==2.3.0-rc0) (0.2.0)\n",
            "Requirement already satisfied: scipy==1.4.1 in /usr/local/lib/python3.7/dist-packages (from tensorflow-gpu==2.3.0-rc0) (1.4.1)\n",
            "Requirement already satisfied: numpy<1.19.0,>=1.16.0 in /usr/local/lib/python3.7/dist-packages (from tensorflow-gpu==2.3.0-rc0) (1.18.5)\n",
            "Requirement already satisfied: grpcio>=1.8.6 in /usr/local/lib/python3.7/dist-packages (from tensorflow-gpu==2.3.0-rc0) (1.32.0)\n",
            "Requirement already satisfied: tensorboard<2.3.0,>=2.2.0 in /usr/local/lib/python3.7/dist-packages (from tensorflow-gpu==2.3.0-rc0) (2.2.2)\n",
            "Requirement already satisfied: gast==0.3.3 in /usr/local/lib/python3.7/dist-packages (from tensorflow-gpu==2.3.0-rc0) (0.3.3)\n",
            "Requirement already satisfied: termcolor>=1.1.0 in /usr/local/lib/python3.7/dist-packages (from tensorflow-gpu==2.3.0-rc0) (1.1.0)\n",
            "Requirement already satisfied: protobuf>=3.9.2 in /usr/local/lib/python3.7/dist-packages (from tensorflow-gpu==2.3.0-rc0) (3.12.4)\n",
            "Requirement already satisfied: werkzeug>=0.11.15 in /usr/local/lib/python3.7/dist-packages (from tensorboard<2.3.0,>=2.2.0->tensorflow-gpu==2.3.0-rc0) (1.0.1)\n",
            "Requirement already satisfied: requests<3,>=2.21.0 in /usr/local/lib/python3.7/dist-packages (from tensorboard<2.3.0,>=2.2.0->tensorflow-gpu==2.3.0-rc0) (2.23.0)\n",
            "Requirement already satisfied: setuptools>=41.0.0 in /usr/local/lib/python3.7/dist-packages (from tensorboard<2.3.0,>=2.2.0->tensorflow-gpu==2.3.0-rc0) (54.2.0)\n",
            "Requirement already satisfied: google-auth<2,>=1.6.3 in /usr/local/lib/python3.7/dist-packages (from tensorboard<2.3.0,>=2.2.0->tensorflow-gpu==2.3.0-rc0) (1.28.1)\n",
            "Requirement already satisfied: tensorboard-plugin-wit>=1.6.0 in /usr/local/lib/python3.7/dist-packages (from tensorboard<2.3.0,>=2.2.0->tensorflow-gpu==2.3.0-rc0) (1.8.0)\n",
            "Requirement already satisfied: markdown>=2.6.8 in /usr/local/lib/python3.7/dist-packages (from tensorboard<2.3.0,>=2.2.0->tensorflow-gpu==2.3.0-rc0) (3.3.4)\n",
            "Requirement already satisfied: google-auth-oauthlib<0.5,>=0.4.1 in /usr/local/lib/python3.7/dist-packages (from tensorboard<2.3.0,>=2.2.0->tensorflow-gpu==2.3.0-rc0) (0.4.4)\n",
            "Requirement already satisfied: chardet<4,>=3.0.2 in /usr/local/lib/python3.7/dist-packages (from requests<3,>=2.21.0->tensorboard<2.3.0,>=2.2.0->tensorflow-gpu==2.3.0-rc0) (3.0.4)\n",
            "Requirement already satisfied: urllib3!=1.25.0,!=1.25.1,<1.26,>=1.21.1 in /usr/local/lib/python3.7/dist-packages (from requests<3,>=2.21.0->tensorboard<2.3.0,>=2.2.0->tensorflow-gpu==2.3.0-rc0) (1.24.3)\n",
            "Requirement already satisfied: certifi>=2017.4.17 in /usr/local/lib/python3.7/dist-packages (from requests<3,>=2.21.0->tensorboard<2.3.0,>=2.2.0->tensorflow-gpu==2.3.0-rc0) (2020.12.5)\n",
            "Requirement already satisfied: idna<3,>=2.5 in /usr/local/lib/python3.7/dist-packages (from requests<3,>=2.21.0->tensorboard<2.3.0,>=2.2.0->tensorflow-gpu==2.3.0-rc0) (2.10)\n",
            "Requirement already satisfied: cachetools<5.0,>=2.0.0 in /usr/local/lib/python3.7/dist-packages (from google-auth<2,>=1.6.3->tensorboard<2.3.0,>=2.2.0->tensorflow-gpu==2.3.0-rc0) (4.2.1)\n",
            "Requirement already satisfied: pyasn1-modules>=0.2.1 in /usr/local/lib/python3.7/dist-packages (from google-auth<2,>=1.6.3->tensorboard<2.3.0,>=2.2.0->tensorflow-gpu==2.3.0-rc0) (0.2.8)\n",
            "Requirement already satisfied: rsa<5,>=3.1.4; python_version >= \"3.6\" in /usr/local/lib/python3.7/dist-packages (from google-auth<2,>=1.6.3->tensorboard<2.3.0,>=2.2.0->tensorflow-gpu==2.3.0-rc0) (4.7.2)\n",
            "Requirement already satisfied: importlib-metadata; python_version < \"3.8\" in /usr/local/lib/python3.7/dist-packages (from markdown>=2.6.8->tensorboard<2.3.0,>=2.2.0->tensorflow-gpu==2.3.0-rc0) (3.10.0)\n",
            "Requirement already satisfied: requests-oauthlib>=0.7.0 in /usr/local/lib/python3.7/dist-packages (from google-auth-oauthlib<0.5,>=0.4.1->tensorboard<2.3.0,>=2.2.0->tensorflow-gpu==2.3.0-rc0) (1.3.0)\n",
            "Requirement already satisfied: pyasn1<0.5.0,>=0.4.6 in /usr/local/lib/python3.7/dist-packages (from pyasn1-modules>=0.2.1->google-auth<2,>=1.6.3->tensorboard<2.3.0,>=2.2.0->tensorflow-gpu==2.3.0-rc0) (0.4.8)\n",
            "Requirement already satisfied: typing-extensions>=3.6.4; python_version < \"3.8\" in /usr/local/lib/python3.7/dist-packages (from importlib-metadata; python_version < \"3.8\"->markdown>=2.6.8->tensorboard<2.3.0,>=2.2.0->tensorflow-gpu==2.3.0-rc0) (3.7.4.3)\n",
            "Requirement already satisfied: zipp>=0.5 in /usr/local/lib/python3.7/dist-packages (from importlib-metadata; python_version < \"3.8\"->markdown>=2.6.8->tensorboard<2.3.0,>=2.2.0->tensorflow-gpu==2.3.0-rc0) (3.4.1)\n",
            "Requirement already satisfied: oauthlib>=3.0.0 in /usr/local/lib/python3.7/dist-packages (from requests-oauthlib>=0.7.0->google-auth-oauthlib<0.5,>=0.4.1->tensorboard<2.3.0,>=2.2.0->tensorflow-gpu==2.3.0-rc0) (3.1.0)\n"
          ],
          "name": "stdout"
        }
      ]
    },
    {
      "cell_type": "code",
      "metadata": {
        "colab": {
          "base_uri": "https://localhost:8080/"
        },
        "id": "4n75nyGWtwOm",
        "outputId": "0b0f5cba-1f1a-4a95-ee6c-43a585536288"
      },
      "source": [
        "import tensorflow as tf\n",
        "from tensorflow import keras\n",
        "from tensorflow.keras import Sequential\n",
        "from tensorflow.keras.layers import Flatten, Dense, Dropout, BatchNormalization\n",
        "from tensorflow.keras.layers import Conv1D, MaxPool1D\n",
        "\n",
        "from tensorflow.keras.optimizers import Adam\n",
        "\n",
        "\n",
        "print(tf.__version__)"
      ],
      "execution_count": 2,
      "outputs": [
        {
          "output_type": "stream",
          "text": [
            "2.3.0-rc0\n"
          ],
          "name": "stdout"
        }
      ]
    },
    {
      "cell_type": "code",
      "metadata": {
        "id": "EWLcrzmtt5ec"
      },
      "source": [
        "import pandas as pd\n",
        "import numpy as np\n",
        "import  seaborn as sns\n",
        "import matplotlib.pyplot as plt"
      ],
      "execution_count": 3,
      "outputs": []
    },
    {
      "cell_type": "code",
      "metadata": {
        "colab": {
          "base_uri": "https://localhost:8080/"
        },
        "id": "SJSyvjG-t7th",
        "outputId": "b578fb0a-fad4-4a86-db66-728d120cf52b"
      },
      "source": [
        "import pandas.util.testing as tm"
      ],
      "execution_count": 5,
      "outputs": [
        {
          "output_type": "stream",
          "text": [
            "/usr/local/lib/python3.7/dist-packages/ipykernel_launcher.py:1: FutureWarning: pandas.util.testing is deprecated. Use the functions in the public API at pandas.testing instead.\n",
            "  \"\"\"Entry point for launching an IPython kernel.\n"
          ],
          "name": "stderr"
        }
      ]
    },
    {
      "cell_type": "code",
      "metadata": {
        "id": "0ePBZt1wuMHf"
      },
      "source": [
        "from sklearn import datasets, metrics\n",
        "from sklearn.model_selection import train_test_split\n",
        "from sklearn.preprocessing import StandardScaler"
      ],
      "execution_count": 6,
      "outputs": []
    },
    {
      "cell_type": "markdown",
      "metadata": {
        "id": "BQ01aSdruSnN"
      },
      "source": [
        "**Loading The Dataset**  "
      ]
    },
    {
      "cell_type": "code",
      "metadata": {
        "id": "L3LDwWibuN_k"
      },
      "source": [
        "cancer = datasets.load_breast_cancer()"
      ],
      "execution_count": 7,
      "outputs": []
    },
    {
      "cell_type": "code",
      "metadata": {
        "colab": {
          "base_uri": "https://localhost:8080/"
        },
        "id": "xrBXa807utHI",
        "outputId": "13b61e16-97ea-4a77-936d-218cde8c6cf2"
      },
      "source": [
        "print(cancer.DESCR)"
      ],
      "execution_count": 8,
      "outputs": [
        {
          "output_type": "stream",
          "text": [
            ".. _breast_cancer_dataset:\n",
            "\n",
            "Breast cancer wisconsin (diagnostic) dataset\n",
            "--------------------------------------------\n",
            "\n",
            "**Data Set Characteristics:**\n",
            "\n",
            "    :Number of Instances: 569\n",
            "\n",
            "    :Number of Attributes: 30 numeric, predictive attributes and the class\n",
            "\n",
            "    :Attribute Information:\n",
            "        - radius (mean of distances from center to points on the perimeter)\n",
            "        - texture (standard deviation of gray-scale values)\n",
            "        - perimeter\n",
            "        - area\n",
            "        - smoothness (local variation in radius lengths)\n",
            "        - compactness (perimeter^2 / area - 1.0)\n",
            "        - concavity (severity of concave portions of the contour)\n",
            "        - concave points (number of concave portions of the contour)\n",
            "        - symmetry \n",
            "        - fractal dimension (\"coastline approximation\" - 1)\n",
            "\n",
            "        The mean, standard error, and \"worst\" or largest (mean of the three\n",
            "        largest values) of these features were computed for each image,\n",
            "        resulting in 30 features.  For instance, field 3 is Mean Radius, field\n",
            "        13 is Radius SE, field 23 is Worst Radius.\n",
            "\n",
            "        - class:\n",
            "                - WDBC-Malignant\n",
            "                - WDBC-Benign\n",
            "\n",
            "    :Summary Statistics:\n",
            "\n",
            "    ===================================== ====== ======\n",
            "                                           Min    Max\n",
            "    ===================================== ====== ======\n",
            "    radius (mean):                        6.981  28.11\n",
            "    texture (mean):                       9.71   39.28\n",
            "    perimeter (mean):                     43.79  188.5\n",
            "    area (mean):                          143.5  2501.0\n",
            "    smoothness (mean):                    0.053  0.163\n",
            "    compactness (mean):                   0.019  0.345\n",
            "    concavity (mean):                     0.0    0.427\n",
            "    concave points (mean):                0.0    0.201\n",
            "    symmetry (mean):                      0.106  0.304\n",
            "    fractal dimension (mean):             0.05   0.097\n",
            "    radius (standard error):              0.112  2.873\n",
            "    texture (standard error):             0.36   4.885\n",
            "    perimeter (standard error):           0.757  21.98\n",
            "    area (standard error):                6.802  542.2\n",
            "    smoothness (standard error):          0.002  0.031\n",
            "    compactness (standard error):         0.002  0.135\n",
            "    concavity (standard error):           0.0    0.396\n",
            "    concave points (standard error):      0.0    0.053\n",
            "    symmetry (standard error):            0.008  0.079\n",
            "    fractal dimension (standard error):   0.001  0.03\n",
            "    radius (worst):                       7.93   36.04\n",
            "    texture (worst):                      12.02  49.54\n",
            "    perimeter (worst):                    50.41  251.2\n",
            "    area (worst):                         185.2  4254.0\n",
            "    smoothness (worst):                   0.071  0.223\n",
            "    compactness (worst):                  0.027  1.058\n",
            "    concavity (worst):                    0.0    1.252\n",
            "    concave points (worst):               0.0    0.291\n",
            "    symmetry (worst):                     0.156  0.664\n",
            "    fractal dimension (worst):            0.055  0.208\n",
            "    ===================================== ====== ======\n",
            "\n",
            "    :Missing Attribute Values: None\n",
            "\n",
            "    :Class Distribution: 212 - Malignant, 357 - Benign\n",
            "\n",
            "    :Creator:  Dr. William H. Wolberg, W. Nick Street, Olvi L. Mangasarian\n",
            "\n",
            "    :Donor: Nick Street\n",
            "\n",
            "    :Date: November, 1995\n",
            "\n",
            "This is a copy of UCI ML Breast Cancer Wisconsin (Diagnostic) datasets.\n",
            "https://goo.gl/U2Uwz2\n",
            "\n",
            "Features are computed from a digitized image of a fine needle\n",
            "aspirate (FNA) of a breast mass.  They describe\n",
            "characteristics of the cell nuclei present in the image.\n",
            "\n",
            "Separating plane described above was obtained using\n",
            "Multisurface Method-Tree (MSM-T) [K. P. Bennett, \"Decision Tree\n",
            "Construction Via Linear Programming.\" Proceedings of the 4th\n",
            "Midwest Artificial Intelligence and Cognitive Science Society,\n",
            "pp. 97-101, 1992], a classification method which uses linear\n",
            "programming to construct a decision tree.  Relevant features\n",
            "were selected using an exhaustive search in the space of 1-4\n",
            "features and 1-3 separating planes.\n",
            "\n",
            "The actual linear program used to obtain the separating plane\n",
            "in the 3-dimensional space is that described in:\n",
            "[K. P. Bennett and O. L. Mangasarian: \"Robust Linear\n",
            "Programming Discrimination of Two Linearly Inseparable Sets\",\n",
            "Optimization Methods and Software 1, 1992, 23-34].\n",
            "\n",
            "This database is also available through the UW CS ftp server:\n",
            "\n",
            "ftp ftp.cs.wisc.edu\n",
            "cd math-prog/cpo-dataset/machine-learn/WDBC/\n",
            "\n",
            ".. topic:: References\n",
            "\n",
            "   - W.N. Street, W.H. Wolberg and O.L. Mangasarian. Nuclear feature extraction \n",
            "     for breast tumor diagnosis. IS&T/SPIE 1993 International Symposium on \n",
            "     Electronic Imaging: Science and Technology, volume 1905, pages 861-870,\n",
            "     San Jose, CA, 1993.\n",
            "   - O.L. Mangasarian, W.N. Street and W.H. Wolberg. Breast cancer diagnosis and \n",
            "     prognosis via linear programming. Operations Research, 43(4), pages 570-577, \n",
            "     July-August 1995.\n",
            "   - W.H. Wolberg, W.N. Street, and O.L. Mangasarian. Machine learning techniques\n",
            "     to diagnose breast cancer from fine-needle aspirates. Cancer Letters 77 (1994) \n",
            "     163-171.\n"
          ],
          "name": "stdout"
        }
      ]
    },
    {
      "cell_type": "markdown",
      "metadata": {
        "id": "lzQD7PouuRNt"
      },
      "source": [
        ""
      ]
    },
    {
      "cell_type": "code",
      "metadata": {
        "colab": {
          "base_uri": "https://localhost:8080/",
          "height": 258
        },
        "id": "bwRD6-Mou00l",
        "outputId": "92d19f01-5ca5-4813-99c5-009eba419e4c"
      },
      "source": [
        "X = pd.DataFrame(data = cancer.data, columns=cancer.feature_names)\n",
        "X.head()"
      ],
      "execution_count": 9,
      "outputs": [
        {
          "output_type": "execute_result",
          "data": {
            "text/html": [
              "<div>\n",
              "<style scoped>\n",
              "    .dataframe tbody tr th:only-of-type {\n",
              "        vertical-align: middle;\n",
              "    }\n",
              "\n",
              "    .dataframe tbody tr th {\n",
              "        vertical-align: top;\n",
              "    }\n",
              "\n",
              "    .dataframe thead th {\n",
              "        text-align: right;\n",
              "    }\n",
              "</style>\n",
              "<table border=\"1\" class=\"dataframe\">\n",
              "  <thead>\n",
              "    <tr style=\"text-align: right;\">\n",
              "      <th></th>\n",
              "      <th>mean radius</th>\n",
              "      <th>mean texture</th>\n",
              "      <th>mean perimeter</th>\n",
              "      <th>mean area</th>\n",
              "      <th>mean smoothness</th>\n",
              "      <th>mean compactness</th>\n",
              "      <th>mean concavity</th>\n",
              "      <th>mean concave points</th>\n",
              "      <th>mean symmetry</th>\n",
              "      <th>mean fractal dimension</th>\n",
              "      <th>radius error</th>\n",
              "      <th>texture error</th>\n",
              "      <th>perimeter error</th>\n",
              "      <th>area error</th>\n",
              "      <th>smoothness error</th>\n",
              "      <th>compactness error</th>\n",
              "      <th>concavity error</th>\n",
              "      <th>concave points error</th>\n",
              "      <th>symmetry error</th>\n",
              "      <th>fractal dimension error</th>\n",
              "      <th>worst radius</th>\n",
              "      <th>worst texture</th>\n",
              "      <th>worst perimeter</th>\n",
              "      <th>worst area</th>\n",
              "      <th>worst smoothness</th>\n",
              "      <th>worst compactness</th>\n",
              "      <th>worst concavity</th>\n",
              "      <th>worst concave points</th>\n",
              "      <th>worst symmetry</th>\n",
              "      <th>worst fractal dimension</th>\n",
              "    </tr>\n",
              "  </thead>\n",
              "  <tbody>\n",
              "    <tr>\n",
              "      <th>0</th>\n",
              "      <td>17.99</td>\n",
              "      <td>10.38</td>\n",
              "      <td>122.80</td>\n",
              "      <td>1001.0</td>\n",
              "      <td>0.11840</td>\n",
              "      <td>0.27760</td>\n",
              "      <td>0.3001</td>\n",
              "      <td>0.14710</td>\n",
              "      <td>0.2419</td>\n",
              "      <td>0.07871</td>\n",
              "      <td>1.0950</td>\n",
              "      <td>0.9053</td>\n",
              "      <td>8.589</td>\n",
              "      <td>153.40</td>\n",
              "      <td>0.006399</td>\n",
              "      <td>0.04904</td>\n",
              "      <td>0.05373</td>\n",
              "      <td>0.01587</td>\n",
              "      <td>0.03003</td>\n",
              "      <td>0.006193</td>\n",
              "      <td>25.38</td>\n",
              "      <td>17.33</td>\n",
              "      <td>184.60</td>\n",
              "      <td>2019.0</td>\n",
              "      <td>0.1622</td>\n",
              "      <td>0.6656</td>\n",
              "      <td>0.7119</td>\n",
              "      <td>0.2654</td>\n",
              "      <td>0.4601</td>\n",
              "      <td>0.11890</td>\n",
              "    </tr>\n",
              "    <tr>\n",
              "      <th>1</th>\n",
              "      <td>20.57</td>\n",
              "      <td>17.77</td>\n",
              "      <td>132.90</td>\n",
              "      <td>1326.0</td>\n",
              "      <td>0.08474</td>\n",
              "      <td>0.07864</td>\n",
              "      <td>0.0869</td>\n",
              "      <td>0.07017</td>\n",
              "      <td>0.1812</td>\n",
              "      <td>0.05667</td>\n",
              "      <td>0.5435</td>\n",
              "      <td>0.7339</td>\n",
              "      <td>3.398</td>\n",
              "      <td>74.08</td>\n",
              "      <td>0.005225</td>\n",
              "      <td>0.01308</td>\n",
              "      <td>0.01860</td>\n",
              "      <td>0.01340</td>\n",
              "      <td>0.01389</td>\n",
              "      <td>0.003532</td>\n",
              "      <td>24.99</td>\n",
              "      <td>23.41</td>\n",
              "      <td>158.80</td>\n",
              "      <td>1956.0</td>\n",
              "      <td>0.1238</td>\n",
              "      <td>0.1866</td>\n",
              "      <td>0.2416</td>\n",
              "      <td>0.1860</td>\n",
              "      <td>0.2750</td>\n",
              "      <td>0.08902</td>\n",
              "    </tr>\n",
              "    <tr>\n",
              "      <th>2</th>\n",
              "      <td>19.69</td>\n",
              "      <td>21.25</td>\n",
              "      <td>130.00</td>\n",
              "      <td>1203.0</td>\n",
              "      <td>0.10960</td>\n",
              "      <td>0.15990</td>\n",
              "      <td>0.1974</td>\n",
              "      <td>0.12790</td>\n",
              "      <td>0.2069</td>\n",
              "      <td>0.05999</td>\n",
              "      <td>0.7456</td>\n",
              "      <td>0.7869</td>\n",
              "      <td>4.585</td>\n",
              "      <td>94.03</td>\n",
              "      <td>0.006150</td>\n",
              "      <td>0.04006</td>\n",
              "      <td>0.03832</td>\n",
              "      <td>0.02058</td>\n",
              "      <td>0.02250</td>\n",
              "      <td>0.004571</td>\n",
              "      <td>23.57</td>\n",
              "      <td>25.53</td>\n",
              "      <td>152.50</td>\n",
              "      <td>1709.0</td>\n",
              "      <td>0.1444</td>\n",
              "      <td>0.4245</td>\n",
              "      <td>0.4504</td>\n",
              "      <td>0.2430</td>\n",
              "      <td>0.3613</td>\n",
              "      <td>0.08758</td>\n",
              "    </tr>\n",
              "    <tr>\n",
              "      <th>3</th>\n",
              "      <td>11.42</td>\n",
              "      <td>20.38</td>\n",
              "      <td>77.58</td>\n",
              "      <td>386.1</td>\n",
              "      <td>0.14250</td>\n",
              "      <td>0.28390</td>\n",
              "      <td>0.2414</td>\n",
              "      <td>0.10520</td>\n",
              "      <td>0.2597</td>\n",
              "      <td>0.09744</td>\n",
              "      <td>0.4956</td>\n",
              "      <td>1.1560</td>\n",
              "      <td>3.445</td>\n",
              "      <td>27.23</td>\n",
              "      <td>0.009110</td>\n",
              "      <td>0.07458</td>\n",
              "      <td>0.05661</td>\n",
              "      <td>0.01867</td>\n",
              "      <td>0.05963</td>\n",
              "      <td>0.009208</td>\n",
              "      <td>14.91</td>\n",
              "      <td>26.50</td>\n",
              "      <td>98.87</td>\n",
              "      <td>567.7</td>\n",
              "      <td>0.2098</td>\n",
              "      <td>0.8663</td>\n",
              "      <td>0.6869</td>\n",
              "      <td>0.2575</td>\n",
              "      <td>0.6638</td>\n",
              "      <td>0.17300</td>\n",
              "    </tr>\n",
              "    <tr>\n",
              "      <th>4</th>\n",
              "      <td>20.29</td>\n",
              "      <td>14.34</td>\n",
              "      <td>135.10</td>\n",
              "      <td>1297.0</td>\n",
              "      <td>0.10030</td>\n",
              "      <td>0.13280</td>\n",
              "      <td>0.1980</td>\n",
              "      <td>0.10430</td>\n",
              "      <td>0.1809</td>\n",
              "      <td>0.05883</td>\n",
              "      <td>0.7572</td>\n",
              "      <td>0.7813</td>\n",
              "      <td>5.438</td>\n",
              "      <td>94.44</td>\n",
              "      <td>0.011490</td>\n",
              "      <td>0.02461</td>\n",
              "      <td>0.05688</td>\n",
              "      <td>0.01885</td>\n",
              "      <td>0.01756</td>\n",
              "      <td>0.005115</td>\n",
              "      <td>22.54</td>\n",
              "      <td>16.67</td>\n",
              "      <td>152.20</td>\n",
              "      <td>1575.0</td>\n",
              "      <td>0.1374</td>\n",
              "      <td>0.2050</td>\n",
              "      <td>0.4000</td>\n",
              "      <td>0.1625</td>\n",
              "      <td>0.2364</td>\n",
              "      <td>0.07678</td>\n",
              "    </tr>\n",
              "  </tbody>\n",
              "</table>\n",
              "</div>"
            ],
            "text/plain": [
              "   mean radius  mean texture  ...  worst symmetry  worst fractal dimension\n",
              "0        17.99         10.38  ...          0.4601                  0.11890\n",
              "1        20.57         17.77  ...          0.2750                  0.08902\n",
              "2        19.69         21.25  ...          0.3613                  0.08758\n",
              "3        11.42         20.38  ...          0.6638                  0.17300\n",
              "4        20.29         14.34  ...          0.2364                  0.07678\n",
              "\n",
              "[5 rows x 30 columns]"
            ]
          },
          "metadata": {
            "tags": []
          },
          "execution_count": 9
        }
      ]
    },
    {
      "cell_type": "code",
      "metadata": {
        "id": "ykDpq8f9u3Gm"
      },
      "source": [
        "y = cancer.target"
      ],
      "execution_count": 10,
      "outputs": []
    },
    {
      "cell_type": "code",
      "metadata": {
        "colab": {
          "base_uri": "https://localhost:8080/"
        },
        "id": "L3xWuxznu66W",
        "outputId": "d5ccc8ec-df98-4ea4-edec-a6b6801d0684"
      },
      "source": [
        "y"
      ],
      "execution_count": 11,
      "outputs": [
        {
          "output_type": "execute_result",
          "data": {
            "text/plain": [
              "array([0, 0, 0, 0, 0, 0, 0, 0, 0, 0, 0, 0, 0, 0, 0, 0, 0, 0, 0, 1, 1, 1,\n",
              "       0, 0, 0, 0, 0, 0, 0, 0, 0, 0, 0, 0, 0, 0, 0, 1, 0, 0, 0, 0, 0, 0,\n",
              "       0, 0, 1, 0, 1, 1, 1, 1, 1, 0, 0, 1, 0, 0, 1, 1, 1, 1, 0, 1, 0, 0,\n",
              "       1, 1, 1, 1, 0, 1, 0, 0, 1, 0, 1, 0, 0, 1, 1, 1, 0, 0, 1, 0, 0, 0,\n",
              "       1, 1, 1, 0, 1, 1, 0, 0, 1, 1, 1, 0, 0, 1, 1, 1, 1, 0, 1, 1, 0, 1,\n",
              "       1, 1, 1, 1, 1, 1, 1, 0, 0, 0, 1, 0, 0, 1, 1, 1, 0, 0, 1, 0, 1, 0,\n",
              "       0, 1, 0, 0, 1, 1, 0, 1, 1, 0, 1, 1, 1, 1, 0, 1, 1, 1, 1, 1, 1, 1,\n",
              "       1, 1, 0, 1, 1, 1, 1, 0, 0, 1, 0, 1, 1, 0, 0, 1, 1, 0, 0, 1, 1, 1,\n",
              "       1, 0, 1, 1, 0, 0, 0, 1, 0, 1, 0, 1, 1, 1, 0, 1, 1, 0, 0, 1, 0, 0,\n",
              "       0, 0, 1, 0, 0, 0, 1, 0, 1, 0, 1, 1, 0, 1, 0, 0, 0, 0, 1, 1, 0, 0,\n",
              "       1, 1, 1, 0, 1, 1, 1, 1, 1, 0, 0, 1, 1, 0, 1, 1, 0, 0, 1, 0, 1, 1,\n",
              "       1, 1, 0, 1, 1, 1, 1, 1, 0, 1, 0, 0, 0, 0, 0, 0, 0, 0, 0, 0, 0, 0,\n",
              "       0, 0, 1, 1, 1, 1, 1, 1, 0, 1, 0, 1, 1, 0, 1, 1, 0, 1, 0, 0, 1, 1,\n",
              "       1, 1, 1, 1, 1, 1, 1, 1, 1, 1, 1, 0, 1, 1, 0, 1, 0, 1, 1, 1, 1, 1,\n",
              "       1, 1, 1, 1, 1, 1, 1, 1, 1, 0, 1, 1, 1, 0, 1, 0, 1, 1, 1, 1, 0, 0,\n",
              "       0, 1, 1, 1, 1, 0, 1, 0, 1, 0, 1, 1, 1, 0, 1, 1, 1, 1, 1, 1, 1, 0,\n",
              "       0, 0, 1, 1, 1, 1, 1, 1, 1, 1, 1, 1, 1, 0, 0, 1, 0, 0, 0, 1, 0, 0,\n",
              "       1, 1, 1, 1, 1, 0, 1, 1, 1, 1, 1, 0, 1, 1, 1, 0, 1, 1, 0, 0, 1, 1,\n",
              "       1, 1, 1, 1, 0, 1, 1, 1, 1, 1, 1, 1, 0, 1, 1, 1, 1, 1, 0, 1, 1, 0,\n",
              "       1, 1, 1, 1, 1, 1, 1, 1, 1, 1, 1, 1, 0, 1, 0, 0, 1, 0, 1, 1, 1, 1,\n",
              "       1, 0, 1, 1, 0, 1, 0, 1, 1, 0, 1, 0, 1, 1, 1, 1, 1, 1, 1, 1, 0, 0,\n",
              "       1, 1, 1, 1, 1, 1, 0, 1, 1, 1, 1, 1, 1, 1, 1, 1, 1, 0, 1, 1, 1, 1,\n",
              "       1, 1, 1, 0, 1, 0, 1, 1, 0, 1, 1, 1, 1, 1, 0, 0, 1, 0, 1, 0, 1, 1,\n",
              "       1, 1, 1, 0, 1, 1, 0, 1, 0, 1, 0, 0, 1, 1, 1, 0, 1, 1, 1, 1, 1, 1,\n",
              "       1, 1, 1, 1, 1, 0, 1, 0, 0, 1, 1, 1, 1, 1, 1, 1, 1, 1, 1, 1, 1, 1,\n",
              "       1, 1, 1, 1, 1, 1, 1, 1, 1, 1, 1, 1, 0, 0, 0, 0, 0, 0, 1])"
            ]
          },
          "metadata": {
            "tags": []
          },
          "execution_count": 11
        }
      ]
    },
    {
      "cell_type": "code",
      "metadata": {
        "colab": {
          "base_uri": "https://localhost:8080/"
        },
        "id": "0BpwkEXYu-9n",
        "outputId": "6c306352-3443-4368-eee1-77a551e32584"
      },
      "source": [
        "cancer.target_names"
      ],
      "execution_count": 12,
      "outputs": [
        {
          "output_type": "execute_result",
          "data": {
            "text/plain": [
              "array(['malignant', 'benign'], dtype='<U9')"
            ]
          },
          "metadata": {
            "tags": []
          },
          "execution_count": 12
        }
      ]
    },
    {
      "cell_type": "code",
      "metadata": {
        "colab": {
          "base_uri": "https://localhost:8080/"
        },
        "id": "KLtyd-1evDtQ",
        "outputId": "5952bdb7-2780-4981-f7e6-fd46547c72a7"
      },
      "source": [
        "X.shape"
      ],
      "execution_count": 14,
      "outputs": [
        {
          "output_type": "execute_result",
          "data": {
            "text/plain": [
              "(569, 30)"
            ]
          },
          "metadata": {
            "tags": []
          },
          "execution_count": 14
        }
      ]
    },
    {
      "cell_type": "code",
      "metadata": {
        "id": "fc35hKGrvLLa"
      },
      "source": [
        "X_train, X_test, y_train, y_test = train_test_split(X, y, test_size = 0.2, random_state = 0, stratify = y)"
      ],
      "execution_count": 15,
      "outputs": []
    },
    {
      "cell_type": "code",
      "metadata": {
        "colab": {
          "base_uri": "https://localhost:8080/"
        },
        "id": "rji2AHYhvPyv",
        "outputId": "90a10e22-4c17-424e-87fe-b3481ce06438"
      },
      "source": [
        "X_train.shape"
      ],
      "execution_count": 16,
      "outputs": [
        {
          "output_type": "execute_result",
          "data": {
            "text/plain": [
              "(455, 30)"
            ]
          },
          "metadata": {
            "tags": []
          },
          "execution_count": 16
        }
      ]
    },
    {
      "cell_type": "code",
      "metadata": {
        "colab": {
          "base_uri": "https://localhost:8080/"
        },
        "id": "LsPbKP5SvUTf",
        "outputId": "99213ffc-3f33-4a37-e99a-e11c48cc9c77"
      },
      "source": [
        "X_test.shape"
      ],
      "execution_count": 17,
      "outputs": [
        {
          "output_type": "execute_result",
          "data": {
            "text/plain": [
              "(114, 30)"
            ]
          },
          "metadata": {
            "tags": []
          },
          "execution_count": 17
        }
      ]
    },
    {
      "cell_type": "code",
      "metadata": {
        "id": "hJlUIiUOvWT7"
      },
      "source": [
        "scaler = StandardScaler()\n",
        "X_train = scaler.fit_transform(X_train)\n",
        "X_test = scaler.transform(X_test)"
      ],
      "execution_count": 18,
      "outputs": []
    },
    {
      "cell_type": "code",
      "metadata": {
        "id": "7wKSfB-cvZ-d"
      },
      "source": [
        "X_train = X_train.reshape(455,30,1)\n",
        "X_test = X_test.reshape(114, 30, 1)"
      ],
      "execution_count": 19,
      "outputs": []
    },
    {
      "cell_type": "code",
      "metadata": {
        "id": "TOQaNI-PvdWV"
      },
      "source": [
        "epochs = 50\n",
        "model = Sequential()\n",
        "model.add(Conv1D(filters=32, kernel_size=2, activation='relu', input_shape = (30,1)))\n",
        "model.add(BatchNormalization())\n",
        "model.add(Dropout(0.2))\n",
        "\n",
        "model.add(Conv1D(filters=64, kernel_size=2, activation='relu'))\n",
        "model.add(BatchNormalization())\n",
        "model.add(Dropout(0.5))\n",
        "\n",
        "model.add(Flatten())\n",
        "model.add(Dense(64, activation='relu'))\n",
        "model.add(Dropout(0.5))\n",
        "\n",
        "model.add(Dense(1, activation='sigmoid'))"
      ],
      "execution_count": 20,
      "outputs": []
    },
    {
      "cell_type": "code",
      "metadata": {
        "colab": {
          "base_uri": "https://localhost:8080/"
        },
        "id": "mkW7In5pvmSw",
        "outputId": "94aba54c-2434-41a1-9d4d-670b2b07d853"
      },
      "source": [
        "model.summary()"
      ],
      "execution_count": 21,
      "outputs": [
        {
          "output_type": "stream",
          "text": [
            "Model: \"sequential\"\n",
            "_________________________________________________________________\n",
            "Layer (type)                 Output Shape              Param #   \n",
            "=================================================================\n",
            "conv1d (Conv1D)              (None, 29, 32)            96        \n",
            "_________________________________________________________________\n",
            "batch_normalization (BatchNo (None, 29, 32)            128       \n",
            "_________________________________________________________________\n",
            "dropout (Dropout)            (None, 29, 32)            0         \n",
            "_________________________________________________________________\n",
            "conv1d_1 (Conv1D)            (None, 28, 64)            4160      \n",
            "_________________________________________________________________\n",
            "batch_normalization_1 (Batch (None, 28, 64)            256       \n",
            "_________________________________________________________________\n",
            "dropout_1 (Dropout)          (None, 28, 64)            0         \n",
            "_________________________________________________________________\n",
            "flatten (Flatten)            (None, 1792)              0         \n",
            "_________________________________________________________________\n",
            "dense (Dense)                (None, 64)                114752    \n",
            "_________________________________________________________________\n",
            "dropout_2 (Dropout)          (None, 64)                0         \n",
            "_________________________________________________________________\n",
            "dense_1 (Dense)              (None, 1)                 65        \n",
            "=================================================================\n",
            "Total params: 119,457\n",
            "Trainable params: 119,265\n",
            "Non-trainable params: 192\n",
            "_________________________________________________________________\n"
          ],
          "name": "stdout"
        }
      ]
    },
    {
      "cell_type": "code",
      "metadata": {
        "id": "feX7fAghvq54"
      },
      "source": [
        "model.compile(optimizer=Adam(lr=0.00005), loss = 'binary_crossentropy', metrics=['accuracy'])"
      ],
      "execution_count": 22,
      "outputs": []
    },
    {
      "cell_type": "code",
      "metadata": {
        "colab": {
          "base_uri": "https://localhost:8080/"
        },
        "id": "ba7UYMO9vvPb",
        "outputId": "e42e2eaa-8b60-4493-9aa8-dbb5ea6bb68d"
      },
      "source": [
        "history = model.fit(X_train, y_train, epochs=epochs, validation_data=(X_test, y_test), verbose=1)"
      ],
      "execution_count": 23,
      "outputs": [
        {
          "output_type": "stream",
          "text": [
            "Epoch 1/50\n",
            "15/15 [==============================] - 0s 20ms/step - loss: 0.9542 - accuracy: 0.6088 - val_loss: 0.6417 - val_accuracy: 0.9298\n",
            "Epoch 2/50\n",
            "15/15 [==============================] - 0s 9ms/step - loss: 0.6295 - accuracy: 0.7429 - val_loss: 0.5972 - val_accuracy: 0.9298\n",
            "Epoch 3/50\n",
            "15/15 [==============================] - 0s 8ms/step - loss: 0.5847 - accuracy: 0.7692 - val_loss: 0.5553 - val_accuracy: 0.9211\n",
            "Epoch 4/50\n",
            "15/15 [==============================] - 0s 9ms/step - loss: 0.4057 - accuracy: 0.8308 - val_loss: 0.5155 - val_accuracy: 0.9123\n",
            "Epoch 5/50\n",
            "15/15 [==============================] - 0s 9ms/step - loss: 0.3361 - accuracy: 0.8462 - val_loss: 0.4795 - val_accuracy: 0.9035\n",
            "Epoch 6/50\n",
            "15/15 [==============================] - 0s 8ms/step - loss: 0.3225 - accuracy: 0.8813 - val_loss: 0.4482 - val_accuracy: 0.8947\n",
            "Epoch 7/50\n",
            "15/15 [==============================] - 0s 8ms/step - loss: 0.2848 - accuracy: 0.8835 - val_loss: 0.4170 - val_accuracy: 0.8860\n",
            "Epoch 8/50\n",
            "15/15 [==============================] - 0s 8ms/step - loss: 0.2638 - accuracy: 0.9033 - val_loss: 0.3865 - val_accuracy: 0.8947\n",
            "Epoch 9/50\n",
            "15/15 [==============================] - 0s 8ms/step - loss: 0.2476 - accuracy: 0.8879 - val_loss: 0.3571 - val_accuracy: 0.9035\n",
            "Epoch 10/50\n",
            "15/15 [==============================] - 0s 7ms/step - loss: 0.2311 - accuracy: 0.9121 - val_loss: 0.3330 - val_accuracy: 0.9035\n",
            "Epoch 11/50\n",
            "15/15 [==============================] - 0s 8ms/step - loss: 0.1975 - accuracy: 0.9187 - val_loss: 0.3059 - val_accuracy: 0.9035\n",
            "Epoch 12/50\n",
            "15/15 [==============================] - 0s 8ms/step - loss: 0.2469 - accuracy: 0.9077 - val_loss: 0.2839 - val_accuracy: 0.9035\n",
            "Epoch 13/50\n",
            "15/15 [==============================] - 0s 9ms/step - loss: 0.2326 - accuracy: 0.9209 - val_loss: 0.2612 - val_accuracy: 0.9123\n",
            "Epoch 14/50\n",
            "15/15 [==============================] - 0s 8ms/step - loss: 0.2039 - accuracy: 0.9143 - val_loss: 0.2422 - val_accuracy: 0.9211\n",
            "Epoch 15/50\n",
            "15/15 [==============================] - 0s 8ms/step - loss: 0.2069 - accuracy: 0.9209 - val_loss: 0.2215 - val_accuracy: 0.9211\n",
            "Epoch 16/50\n",
            "15/15 [==============================] - 0s 8ms/step - loss: 0.1814 - accuracy: 0.9187 - val_loss: 0.2029 - val_accuracy: 0.9386\n",
            "Epoch 17/50\n",
            "15/15 [==============================] - 0s 8ms/step - loss: 0.1950 - accuracy: 0.9165 - val_loss: 0.1855 - val_accuracy: 0.9474\n",
            "Epoch 18/50\n",
            "15/15 [==============================] - 0s 9ms/step - loss: 0.1472 - accuracy: 0.9275 - val_loss: 0.1711 - val_accuracy: 0.9474\n",
            "Epoch 19/50\n",
            "15/15 [==============================] - 0s 8ms/step - loss: 0.1885 - accuracy: 0.9253 - val_loss: 0.1594 - val_accuracy: 0.9561\n",
            "Epoch 20/50\n",
            "15/15 [==============================] - 0s 9ms/step - loss: 0.1774 - accuracy: 0.9429 - val_loss: 0.1491 - val_accuracy: 0.9561\n",
            "Epoch 21/50\n",
            "15/15 [==============================] - 0s 9ms/step - loss: 0.1644 - accuracy: 0.9385 - val_loss: 0.1404 - val_accuracy: 0.9561\n",
            "Epoch 22/50\n",
            "15/15 [==============================] - 0s 9ms/step - loss: 0.1388 - accuracy: 0.9363 - val_loss: 0.1324 - val_accuracy: 0.9561\n",
            "Epoch 23/50\n",
            "15/15 [==============================] - 0s 9ms/step - loss: 0.1535 - accuracy: 0.9363 - val_loss: 0.1248 - val_accuracy: 0.9649\n",
            "Epoch 24/50\n",
            "15/15 [==============================] - 0s 8ms/step - loss: 0.1509 - accuracy: 0.9407 - val_loss: 0.1184 - val_accuracy: 0.9649\n",
            "Epoch 25/50\n",
            "15/15 [==============================] - 0s 8ms/step - loss: 0.1545 - accuracy: 0.9451 - val_loss: 0.1130 - val_accuracy: 0.9649\n",
            "Epoch 26/50\n",
            "15/15 [==============================] - 0s 8ms/step - loss: 0.1617 - accuracy: 0.9341 - val_loss: 0.1098 - val_accuracy: 0.9649\n",
            "Epoch 27/50\n",
            "15/15 [==============================] - 0s 9ms/step - loss: 0.1513 - accuracy: 0.9407 - val_loss: 0.1063 - val_accuracy: 0.9737\n",
            "Epoch 28/50\n",
            "15/15 [==============================] - 0s 10ms/step - loss: 0.2011 - accuracy: 0.9231 - val_loss: 0.1038 - val_accuracy: 0.9737\n",
            "Epoch 29/50\n",
            "15/15 [==============================] - 0s 8ms/step - loss: 0.1399 - accuracy: 0.9516 - val_loss: 0.1008 - val_accuracy: 0.9825\n",
            "Epoch 30/50\n",
            "15/15 [==============================] - 0s 8ms/step - loss: 0.1480 - accuracy: 0.9385 - val_loss: 0.0993 - val_accuracy: 0.9825\n",
            "Epoch 31/50\n",
            "15/15 [==============================] - 0s 8ms/step - loss: 0.1272 - accuracy: 0.9407 - val_loss: 0.0975 - val_accuracy: 0.9825\n",
            "Epoch 32/50\n",
            "15/15 [==============================] - 0s 8ms/step - loss: 0.1376 - accuracy: 0.9495 - val_loss: 0.0962 - val_accuracy: 0.9737\n",
            "Epoch 33/50\n",
            "15/15 [==============================] - 0s 9ms/step - loss: 0.1485 - accuracy: 0.9582 - val_loss: 0.0947 - val_accuracy: 0.9737\n",
            "Epoch 34/50\n",
            "15/15 [==============================] - 0s 9ms/step - loss: 0.0977 - accuracy: 0.9604 - val_loss: 0.0943 - val_accuracy: 0.9737\n",
            "Epoch 35/50\n",
            "15/15 [==============================] - 0s 9ms/step - loss: 0.1330 - accuracy: 0.9560 - val_loss: 0.0945 - val_accuracy: 0.9737\n",
            "Epoch 36/50\n",
            "15/15 [==============================] - 0s 8ms/step - loss: 0.1621 - accuracy: 0.9473 - val_loss: 0.0941 - val_accuracy: 0.9737\n",
            "Epoch 37/50\n",
            "15/15 [==============================] - 0s 8ms/step - loss: 0.1272 - accuracy: 0.9560 - val_loss: 0.0937 - val_accuracy: 0.9737\n",
            "Epoch 38/50\n",
            "15/15 [==============================] - 0s 8ms/step - loss: 0.1188 - accuracy: 0.9473 - val_loss: 0.0939 - val_accuracy: 0.9737\n",
            "Epoch 39/50\n",
            "15/15 [==============================] - 0s 8ms/step - loss: 0.1145 - accuracy: 0.9604 - val_loss: 0.0944 - val_accuracy: 0.9737\n",
            "Epoch 40/50\n",
            "15/15 [==============================] - 0s 9ms/step - loss: 0.1071 - accuracy: 0.9648 - val_loss: 0.0951 - val_accuracy: 0.9649\n",
            "Epoch 41/50\n",
            "15/15 [==============================] - 0s 9ms/step - loss: 0.0950 - accuracy: 0.9626 - val_loss: 0.0960 - val_accuracy: 0.9649\n",
            "Epoch 42/50\n",
            "15/15 [==============================] - 0s 8ms/step - loss: 0.1028 - accuracy: 0.9626 - val_loss: 0.0965 - val_accuracy: 0.9649\n",
            "Epoch 43/50\n",
            "15/15 [==============================] - 0s 9ms/step - loss: 0.0908 - accuracy: 0.9626 - val_loss: 0.0964 - val_accuracy: 0.9649\n",
            "Epoch 44/50\n",
            "15/15 [==============================] - 0s 8ms/step - loss: 0.0641 - accuracy: 0.9670 - val_loss: 0.0961 - val_accuracy: 0.9649\n",
            "Epoch 45/50\n",
            "15/15 [==============================] - 0s 8ms/step - loss: 0.1033 - accuracy: 0.9626 - val_loss: 0.0962 - val_accuracy: 0.9649\n",
            "Epoch 46/50\n",
            "15/15 [==============================] - 0s 9ms/step - loss: 0.0992 - accuracy: 0.9648 - val_loss: 0.0967 - val_accuracy: 0.9649\n",
            "Epoch 47/50\n",
            "15/15 [==============================] - 0s 8ms/step - loss: 0.1279 - accuracy: 0.9429 - val_loss: 0.0975 - val_accuracy: 0.9649\n",
            "Epoch 48/50\n",
            "15/15 [==============================] - 0s 8ms/step - loss: 0.1054 - accuracy: 0.9516 - val_loss: 0.0981 - val_accuracy: 0.9649\n",
            "Epoch 49/50\n",
            "15/15 [==============================] - 0s 9ms/step - loss: 0.0865 - accuracy: 0.9604 - val_loss: 0.0989 - val_accuracy: 0.9649\n",
            "Epoch 50/50\n",
            "15/15 [==============================] - 0s 9ms/step - loss: 0.1201 - accuracy: 0.9670 - val_loss: 0.0992 - val_accuracy: 0.9649\n"
          ],
          "name": "stdout"
        }
      ]
    },
    {
      "cell_type": "code",
      "metadata": {
        "id": "gsCYFZBdv0pi"
      },
      "source": [
        "def plot_learningCurve(history, epoch):\n",
        "  # Plot training & validation accuracy values\n",
        "  epoch_range = range(1, epoch+1)\n",
        "  plt.plot(epoch_range, history.history['accuracy'])\n",
        "  plt.plot(epoch_range, history.history['val_accuracy'])\n",
        "  plt.title('Model accuracy')\n",
        "  plt.ylabel('Accuracy')\n",
        "  plt.xlabel('Epoch')\n",
        "  plt.legend(['Train', 'Val'], loc='upper left')\n",
        "  plt.show()\n",
        "\n",
        "  # Plot training & validation loss values\n",
        "  plt.plot(epoch_range, history.history['loss'])\n",
        "  plt.plot(epoch_range, history.history['val_loss'])\n",
        "  plt.title('Model loss')\n",
        "  plt.ylabel('Loss')\n",
        "  plt.xlabel('Epoch')\n",
        "  plt.legend(['Train', 'Val'], loc='upper left')\n",
        "  plt.show()"
      ],
      "execution_count": 24,
      "outputs": []
    },
    {
      "cell_type": "code",
      "metadata": {
        "colab": {
          "base_uri": "https://localhost:8080/"
        },
        "id": "N2ikmbkkv5os",
        "outputId": "60dc63fb-03b4-4a5b-8113-61e0d77ffda5"
      },
      "source": [
        "history.history"
      ],
      "execution_count": 25,
      "outputs": [
        {
          "output_type": "execute_result",
          "data": {
            "text/plain": [
              "{'accuracy': [0.6087912321090698,\n",
              "  0.7428571581840515,\n",
              "  0.7692307829856873,\n",
              "  0.8307692408561707,\n",
              "  0.8461538553237915,\n",
              "  0.8813186883926392,\n",
              "  0.8835164904594421,\n",
              "  0.903296709060669,\n",
              "  0.8879120945930481,\n",
              "  0.9120879173278809,\n",
              "  0.9186813235282898,\n",
              "  0.9076923131942749,\n",
              "  0.9208791255950928,\n",
              "  0.9142857193946838,\n",
              "  0.9208791255950928,\n",
              "  0.9186813235282898,\n",
              "  0.9164835214614868,\n",
              "  0.9274725317955017,\n",
              "  0.9252747297286987,\n",
              "  0.9428571462631226,\n",
              "  0.9384615421295166,\n",
              "  0.9362637400627136,\n",
              "  0.9362637400627136,\n",
              "  0.9406593441963196,\n",
              "  0.9450549483299255,\n",
              "  0.9340659379959106,\n",
              "  0.9406593441963196,\n",
              "  0.9230769276618958,\n",
              "  0.9516483545303345,\n",
              "  0.9384615421295166,\n",
              "  0.9406593441963196,\n",
              "  0.9494505524635315,\n",
              "  0.9582417607307434,\n",
              "  0.9604395627975464,\n",
              "  0.9560439586639404,\n",
              "  0.9472527503967285,\n",
              "  0.9560439586639404,\n",
              "  0.9472527503967285,\n",
              "  0.9604395627975464,\n",
              "  0.9648351669311523,\n",
              "  0.9626373648643494,\n",
              "  0.9626373648643494,\n",
              "  0.9626373648643494,\n",
              "  0.9670329689979553,\n",
              "  0.9626373648643494,\n",
              "  0.9648351669311523,\n",
              "  0.9428571462631226,\n",
              "  0.9516483545303345,\n",
              "  0.9604395627975464,\n",
              "  0.9670329689979553],\n",
              " 'loss': [0.9542111158370972,\n",
              "  0.629471480846405,\n",
              "  0.5847393274307251,\n",
              "  0.4056778848171234,\n",
              "  0.33606967329978943,\n",
              "  0.3225296437740326,\n",
              "  0.28481003642082214,\n",
              "  0.2637912929058075,\n",
              "  0.24762016534805298,\n",
              "  0.23106735944747925,\n",
              "  0.19747427105903625,\n",
              "  0.2468525916337967,\n",
              "  0.23255500197410583,\n",
              "  0.20388199388980865,\n",
              "  0.2068629115819931,\n",
              "  0.18141765892505646,\n",
              "  0.1949591338634491,\n",
              "  0.14715644717216492,\n",
              "  0.18846029043197632,\n",
              "  0.17736318707466125,\n",
              "  0.16441336274147034,\n",
              "  0.13875214755535126,\n",
              "  0.15347611904144287,\n",
              "  0.15091794729232788,\n",
              "  0.15448254346847534,\n",
              "  0.16174514591693878,\n",
              "  0.15130144357681274,\n",
              "  0.20111341774463654,\n",
              "  0.13988809287548065,\n",
              "  0.14795830845832825,\n",
              "  0.12723354995250702,\n",
              "  0.13763679563999176,\n",
              "  0.14853745698928833,\n",
              "  0.09772735089063644,\n",
              "  0.13304637372493744,\n",
              "  0.16212429106235504,\n",
              "  0.12722957134246826,\n",
              "  0.11882312595844269,\n",
              "  0.1145314946770668,\n",
              "  0.10707361996173859,\n",
              "  0.09496951103210449,\n",
              "  0.10280139744281769,\n",
              "  0.09082754701375961,\n",
              "  0.06414845585823059,\n",
              "  0.10333307832479477,\n",
              "  0.09924716502428055,\n",
              "  0.12787094712257385,\n",
              "  0.10536766797304153,\n",
              "  0.08645841479301453,\n",
              "  0.12012842297554016],\n",
              " 'val_accuracy': [0.9298245906829834,\n",
              "  0.9298245906829834,\n",
              "  0.9210526347160339,\n",
              "  0.9122806787490845,\n",
              "  0.9035087823867798,\n",
              "  0.8947368264198303,\n",
              "  0.8859649300575256,\n",
              "  0.8947368264198303,\n",
              "  0.9035087823867798,\n",
              "  0.9035087823867798,\n",
              "  0.9035087823867798,\n",
              "  0.9035087823867798,\n",
              "  0.9122806787490845,\n",
              "  0.9210526347160339,\n",
              "  0.9210526347160339,\n",
              "  0.9385964870452881,\n",
              "  0.9473684430122375,\n",
              "  0.9473684430122375,\n",
              "  0.9561403393745422,\n",
              "  0.9561403393745422,\n",
              "  0.9561403393745422,\n",
              "  0.9561403393745422,\n",
              "  0.9649122953414917,\n",
              "  0.9649122953414917,\n",
              "  0.9649122953414917,\n",
              "  0.9649122953414917,\n",
              "  0.9736841917037964,\n",
              "  0.9736841917037964,\n",
              "  0.9824561476707458,\n",
              "  0.9824561476707458,\n",
              "  0.9824561476707458,\n",
              "  0.9736841917037964,\n",
              "  0.9736841917037964,\n",
              "  0.9736841917037964,\n",
              "  0.9736841917037964,\n",
              "  0.9736841917037964,\n",
              "  0.9736841917037964,\n",
              "  0.9736841917037964,\n",
              "  0.9736841917037964,\n",
              "  0.9649122953414917,\n",
              "  0.9649122953414917,\n",
              "  0.9649122953414917,\n",
              "  0.9649122953414917,\n",
              "  0.9649122953414917,\n",
              "  0.9649122953414917,\n",
              "  0.9649122953414917,\n",
              "  0.9649122953414917,\n",
              "  0.9649122953414917,\n",
              "  0.9649122953414917,\n",
              "  0.9649122953414917],\n",
              " 'val_loss': [0.6417287588119507,\n",
              "  0.5971928238868713,\n",
              "  0.5552971959114075,\n",
              "  0.5154823064804077,\n",
              "  0.4794856309890747,\n",
              "  0.4481683373451233,\n",
              "  0.4170401692390442,\n",
              "  0.38650205731391907,\n",
              "  0.35710182785987854,\n",
              "  0.3329879343509674,\n",
              "  0.3059174418449402,\n",
              "  0.2838755249977112,\n",
              "  0.2612406015396118,\n",
              "  0.24218188226222992,\n",
              "  0.22149722278118134,\n",
              "  0.20292514562606812,\n",
              "  0.18547138571739197,\n",
              "  0.17109163105487823,\n",
              "  0.15942631661891937,\n",
              "  0.14908017218112946,\n",
              "  0.14042051136493683,\n",
              "  0.13244803249835968,\n",
              "  0.12479843944311142,\n",
              "  0.11837214231491089,\n",
              "  0.11303841322660446,\n",
              "  0.10980288684368134,\n",
              "  0.10630244016647339,\n",
              "  0.10380513966083527,\n",
              "  0.1008458361029625,\n",
              "  0.09927614033222198,\n",
              "  0.09748739749193192,\n",
              "  0.09618370980024338,\n",
              "  0.09473234415054321,\n",
              "  0.09431142359972,\n",
              "  0.09445333480834961,\n",
              "  0.09406080842018127,\n",
              "  0.09374293684959412,\n",
              "  0.09385383129119873,\n",
              "  0.09441009163856506,\n",
              "  0.09505452960729599,\n",
              "  0.09595052152872086,\n",
              "  0.09651973843574524,\n",
              "  0.09636478871107101,\n",
              "  0.09613440930843353,\n",
              "  0.09622146189212799,\n",
              "  0.09673231840133667,\n",
              "  0.09748497605323792,\n",
              "  0.09812605381011963,\n",
              "  0.09893430769443512,\n",
              "  0.09916999191045761]}"
            ]
          },
          "metadata": {
            "tags": []
          },
          "execution_count": 25
        }
      ]
    },
    {
      "cell_type": "code",
      "metadata": {
        "colab": {
          "base_uri": "https://localhost:8080/",
          "height": 573
        },
        "id": "VcpRCUK1v982",
        "outputId": "7006f1b5-4773-427e-cae5-262010039ee2"
      },
      "source": [
        "plot_learningCurve(history, epochs)"
      ],
      "execution_count": 26,
      "outputs": [
        {
          "output_type": "display_data",
          "data": {
            "image/png": "[encoded data removed]",
            "text/plain": [
              "<Figure size 432x288 with 1 Axes>"
            ]
          },
          "metadata": {
            "tags": [],
            "needs_background": "light"
          }
        },
        {
          "output_type": "display_data",
          "data": {
            "image/png": "[encoded data removed]",
            "text/plain": [
              "<Figure size 432x288 with 1 Axes>"
            ]
          },
          "metadata": {
            "tags": [],
            "needs_background": "light"
          }
        }
      ]
    },
    {
      "cell_type": "code",
      "metadata": {
        "id": "_ZGzG86SwCEI"
      },
      "source": [
        ""
      ],
      "execution_count": null,
      "outputs": []
    }
  ]
}